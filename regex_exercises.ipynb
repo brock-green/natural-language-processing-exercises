{
 "cells": [
  {
   "cell_type": "markdown",
   "metadata": {},
   "source": [
    "# NLP: Regex_exercises"
   ]
  },
  {
   "cell_type": "code",
   "execution_count": 24,
   "metadata": {},
   "outputs": [],
   "source": [
    "import re\n",
    "import pandas as pd"
   ]
  },
  {
   "cell_type": "markdown",
   "metadata": {},
   "source": [
    "### 1. Write a function named is_vowel. It should accept a string as input and use a regular expression to determine if the passed string is a vowel. While not explicity mentioned in the lesson, you can treat the result of re.search as a boolean value that indicates whether or not the regular expression matches the given string."
   ]
  },
  {
   "cell_type": "code",
   "execution_count": 25,
   "metadata": {},
   "outputs": [],
   "source": [
    "def is_vowel(str):\n",
    "    return bool(re.search(r'^[aeiouAEIOU]$', str))"
   ]
  },
  {
   "cell_type": "markdown",
   "metadata": {},
   "source": [
    "### 2. Write a function named is_valid_username that accepts a string as input. A valid username starts with a lowercase letter, and only consists of lowercase letters, numbers, or the _ character. It should also be no longer than 32 characters. The function should return either True or False depending on whether the passed string is a valid username."
   ]
  },
  {
   "cell_type": "code",
   "execution_count": 26,
   "metadata": {},
   "outputs": [],
   "source": [
    "def is_valid_username(str):\n",
    "    return bool(re.search(r'^[a-z][a-z0-9_]{1,32}$', str))"
   ]
  },
  {
   "cell_type": "code",
   "execution_count": 27,
   "metadata": {},
   "outputs": [
    {
     "name": "stdout",
     "output_type": "stream",
     "text": [
      "True\n",
      "True\n",
      "False\n",
      "True\n",
      "False\n"
     ]
    }
   ],
   "source": [
    "print(is_valid_username('aaaaaaaaaaaaaaaaaaaaaaaaaaaaaaaaa'))\n",
    "print(is_valid_username('codeup'))\n",
    "print(is_valid_username('Codeup'))\n",
    "print(is_valid_username('codeup123'))\n",
    "print(is_valid_username('1codeup'))"
   ]
  },
  {
   "cell_type": "markdown",
   "metadata": {},
   "source": [
    "### 3. Write a regular expression to capture phone numbers. It should match all of the following:\n",
    "\n",
    "(210) 867 5309 \\\n",
    "+1 210.867.5309 \\\n",
    "867-5309 \\\n",
    "210-867-5309\n"
   ]
  },
  {
   "cell_type": "code",
   "execution_count": 46,
   "metadata": {},
   "outputs": [
    {
     "data": {
      "text/html": [
       "<div>\n",
       "<style scoped>\n",
       "    .dataframe tbody tr th:only-of-type {\n",
       "        vertical-align: middle;\n",
       "    }\n",
       "\n",
       "    .dataframe tbody tr th {\n",
       "        vertical-align: top;\n",
       "    }\n",
       "\n",
       "    .dataframe thead th {\n",
       "        text-align: right;\n",
       "    }\n",
       "</style>\n",
       "<table border=\"1\" class=\"dataframe\">\n",
       "  <thead>\n",
       "    <tr style=\"text-align: right;\">\n",
       "      <th></th>\n",
       "      <th>Country_code</th>\n",
       "      <th>Area_code</th>\n",
       "      <th>Local_p1</th>\n",
       "      <th>Local_p2</th>\n",
       "    </tr>\n",
       "  </thead>\n",
       "  <tbody>\n",
       "    <tr>\n",
       "      <th>0</th>\n",
       "      <td>NaN</td>\n",
       "      <td>210</td>\n",
       "      <td>867</td>\n",
       "      <td>5309</td>\n",
       "    </tr>\n",
       "    <tr>\n",
       "      <th>1</th>\n",
       "      <td>+1</td>\n",
       "      <td>210</td>\n",
       "      <td>867</td>\n",
       "      <td>5309</td>\n",
       "    </tr>\n",
       "    <tr>\n",
       "      <th>2</th>\n",
       "      <td>NaN</td>\n",
       "      <td>NaN</td>\n",
       "      <td>867</td>\n",
       "      <td>5309</td>\n",
       "    </tr>\n",
       "    <tr>\n",
       "      <th>3</th>\n",
       "      <td>NaN</td>\n",
       "      <td>210</td>\n",
       "      <td>867</td>\n",
       "      <td>5309</td>\n",
       "    </tr>\n",
       "  </tbody>\n",
       "</table>\n",
       "</div>"
      ],
      "text/plain": [
       "  Country_code Area_code Local_p1 Local_p2\n",
       "0          NaN       210      867     5309\n",
       "1           +1       210      867     5309\n",
       "2          NaN       NaN      867     5309\n",
       "3          NaN       210      867     5309"
      ]
     },
     "execution_count": 46,
     "metadata": {},
     "output_type": "execute_result"
    }
   ],
   "source": [
    "phone_numbers = pd.Series(['(210) 867 5309', '+1 210.867.5309', '867-5309', '210-867-5309'])\n",
    "\n",
    "regex = r'(?P<Country_code>\\+1)?\\s?\\(?(?P<Area_code>\\d{3})?\\.?\\)?-?\\s?(?P<Local_p1>\\d{3})\\s?-?\\.?(?P<Local_p2>\\d{4})'\n",
    "\n",
    "phone_numbers.str.extract(regex)"
   ]
  },
  {
   "cell_type": "markdown",
   "metadata": {},
   "source": [
    "### 4. Use regular expressions to convert the dates below to the standardized year-month-day format.\n",
    "\n",
    "['02/04/19,'\n",
    "'02/05/19,'\n",
    "'02/06/19,'\n",
    "'02/07/19,'\n",
    "'02/08/19,'\n",
    "'02/09/19,'\n",
    "'02/10/19']"
   ]
  },
  {
   "cell_type": "code",
   "execution_count": 30,
   "metadata": {},
   "outputs": [
    {
     "data": {
      "text/plain": [
       "0    19/02/04\n",
       "1    19/02/05\n",
       "2    19/02/06\n",
       "3    19/02/07\n",
       "4    19/02/08\n",
       "5    19/02/09\n",
       "6    19/02/10\n",
       "dtype: object"
      ]
     },
     "execution_count": 30,
     "metadata": {},
     "output_type": "execute_result"
    }
   ],
   "source": [
    "dates = pd.Series([\n",
    "    '02/04/19',\n",
    "    '02/05/19',\n",
    "    '02/06/19',\n",
    "    '02/07/19',\n",
    "    '02/08/19',\n",
    "    '02/09/19',\n",
    "    '02/10/19'\n",
    "])\n",
    "\n",
    "regex = r'(\\d{2})\\/(\\d{2})\\/(\\d{2})'\n",
    "dates.str.replace(regex, r'\\3/\\1/\\2', regex=True)"
   ]
  },
  {
   "cell_type": "markdown",
   "metadata": {},
   "source": [
    "### 5. Write a regex to extract the various parts of these logfile lines:\n",
    "\n",
    "GET /api/v1/sales?page=86 [16/Apr/2019:193452+0000] HTTP/1.1 {200} 510348 \"python-requests/2.21.0\" 97.105.19.58 \\\n",
    "\n",
    "POST /users_accounts/file-upload [16/Apr/2019:193452+0000] HTTP/1.1 {201} 42 \"User-Agent: Mozilla/5.0 (X11; Fedora; Fedora; Linux x86_64) AppleWebKit/537.36 (KHTML, like Gecko) Chrome/73.0.3683.86 Safari/537.36\" 97.105.19.58 \\\n",
    "\n",
    "GET /api/v1/items?page=3 [16/Apr/2019:193453+0000] HTTP/1.1 {429} 3561 \"python-requests/2.21.0\" 97.105.19.58\n"
   ]
  },
  {
   "cell_type": "code",
   "execution_count": 32,
   "metadata": {},
   "outputs": [
    {
     "data": {
      "text/html": [
       "<div>\n",
       "<style scoped>\n",
       "    .dataframe tbody tr th:only-of-type {\n",
       "        vertical-align: middle;\n",
       "    }\n",
       "\n",
       "    .dataframe tbody tr th {\n",
       "        vertical-align: top;\n",
       "    }\n",
       "\n",
       "    .dataframe thead th {\n",
       "        text-align: right;\n",
       "    }\n",
       "</style>\n",
       "<table border=\"1\" class=\"dataframe\">\n",
       "  <thead>\n",
       "    <tr style=\"text-align: right;\">\n",
       "      <th></th>\n",
       "      <th>METHOD</th>\n",
       "      <th>ENDPOINT</th>\n",
       "      <th>TIMESTAMP</th>\n",
       "      <th>PROTOCOL</th>\n",
       "      <th>STATUS_CODE</th>\n",
       "      <th>BYTES_SENT</th>\n",
       "      <th>USER_AGENT</th>\n",
       "      <th>IP_ADDRESS</th>\n",
       "    </tr>\n",
       "  </thead>\n",
       "  <tbody>\n",
       "    <tr>\n",
       "      <th>0</th>\n",
       "      <td>GET</td>\n",
       "      <td>/api/v1/sales?page=86</td>\n",
       "      <td>[16/Apr/2019:193452+0000]</td>\n",
       "      <td>HTTP/1.1</td>\n",
       "      <td>{200}</td>\n",
       "      <td>510348</td>\n",
       "      <td>\"python-requests/2.21.0\"</td>\n",
       "      <td>97.105.19.58</td>\n",
       "    </tr>\n",
       "    <tr>\n",
       "      <th>1</th>\n",
       "      <td>POST</td>\n",
       "      <td>/users_accounts/file-upload</td>\n",
       "      <td>[16/Apr/2019:193452+0000]</td>\n",
       "      <td>HTTP/1.1</td>\n",
       "      <td>{201}</td>\n",
       "      <td>42</td>\n",
       "      <td>\"User-Agent: Mozilla/5.0 (X11; Fedora; Fedora;...</td>\n",
       "      <td>97.105.19.58</td>\n",
       "    </tr>\n",
       "    <tr>\n",
       "      <th>2</th>\n",
       "      <td>GET</td>\n",
       "      <td>/api/v1/items?page=3</td>\n",
       "      <td>[16/Apr/2019:193453+0000]</td>\n",
       "      <td>HTTP/1.1</td>\n",
       "      <td>{429}</td>\n",
       "      <td>3561</td>\n",
       "      <td>\"python-requests/2.21.0\"</td>\n",
       "      <td>97.105.19.58</td>\n",
       "    </tr>\n",
       "  </tbody>\n",
       "</table>\n",
       "</div>"
      ],
      "text/plain": [
       "  METHOD                     ENDPOINT                  TIMESTAMP  PROTOCOL  \\\n",
       "0    GET        /api/v1/sales?page=86  [16/Apr/2019:193452+0000]  HTTP/1.1   \n",
       "1   POST  /users_accounts/file-upload  [16/Apr/2019:193452+0000]  HTTP/1.1   \n",
       "2    GET         /api/v1/items?page=3  [16/Apr/2019:193453+0000]  HTTP/1.1   \n",
       "\n",
       "  STATUS_CODE BYTES_SENT                                         USER_AGENT  \\\n",
       "0       {200}     510348                           \"python-requests/2.21.0\"   \n",
       "1       {201}         42  \"User-Agent: Mozilla/5.0 (X11; Fedora; Fedora;...   \n",
       "2       {429}       3561                           \"python-requests/2.21.0\"   \n",
       "\n",
       "     IP_ADDRESS  \n",
       "0  97.105.19.58  \n",
       "1  97.105.19.58  \n",
       "2  97.105.19.58  "
      ]
     },
     "execution_count": 32,
     "metadata": {},
     "output_type": "execute_result"
    }
   ],
   "source": [
    "logfiles = pd.Series(['GET /api/v1/sales?page=86 [16/Apr/2019:193452+0000] HTTP/1.1 {200} 510348 \"python-requests/2.21.0\" 97.105.19.58', 'POST /users_accounts/file-upload [16/Apr/2019:193452+0000] HTTP/1.1 {201} 42 \"User-Agent: Mozilla/5.0 (X11; Fedora; Fedora; Linux x86_64) AppleWebKit/537.36 (KHTML, like Gecko) Chrome/73.0.3683.86 Safari/537.36\" 97.105.19.58', 'GET /api/v1/items?page=3 [16/Apr/2019:193453+0000] HTTP/1.1 {429} 3561 \"python-requests/2.21.0\" 97.105.19.58'])\n",
    "\n",
    "regexp = r'(?P<METHOD>\\w+)\\s(?P<ENDPOINT>.+)\\s(?P<TIMESTAMP>\\[.+\\])\\s(?P<PROTOCOL>.+)\\s(?P<STATUS_CODE>\\{\\d{3}})\\s(?P<BYTES_SENT>\\d+)\\s(?P<USER_AGENT>.+)\\s(?P<IP_ADDRESS>\\d{1,3}\\.\\d{1,3}\\.\\d{1,3}\\.\\d{1,3})'\n",
    "\n",
    "logfiles.str.extract(regexp)\n"
   ]
  }
 ],
 "metadata": {
  "kernelspec": {
   "display_name": "base",
   "language": "python",
   "name": "python3"
  },
  "language_info": {
   "codemirror_mode": {
    "name": "ipython",
    "version": 3
   },
   "file_extension": ".py",
   "mimetype": "text/x-python",
   "name": "python",
   "nbconvert_exporter": "python",
   "pygments_lexer": "ipython3",
   "version": "3.11.3"
  }
 },
 "nbformat": 4,
 "nbformat_minor": 2
}
