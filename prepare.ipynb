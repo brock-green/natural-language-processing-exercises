{
 "cells": [
  {
   "cell_type": "markdown",
   "metadata": {},
   "source": [
    "# NLP Exercises: Prepare"
   ]
  },
  {
   "cell_type": "code",
   "execution_count": 1,
   "metadata": {},
   "outputs": [
    {
     "name": "stderr",
     "output_type": "stream",
     "text": [
      "[nltk_data] Downloading package wordnet to\n",
      "[nltk_data]     /Users/brockgreen/nltk_data...\n",
      "[nltk_data]   Package wordnet is already up-to-date!\n",
      "[nltk_data] Downloading package omw-1.4 to\n",
      "[nltk_data]     /Users/brockgreen/nltk_data...\n",
      "[nltk_data]   Package omw-1.4 is already up-to-date!\n",
      "[nltk_data] Downloading package stopwords to\n",
      "[nltk_data]     /Users/brockgreen/nltk_data...\n",
      "[nltk_data]   Package stopwords is already up-to-date!\n"
     ]
    }
   ],
   "source": [
    "import unicodedata\n",
    "import re\n",
    "import json\n",
    "\n",
    "import nltk\n",
    "from nltk.tokenize.toktok import ToktokTokenizer\n",
    "from nltk.corpus import stopwords\n",
    "nltk.download('wordnet')\n",
    "nltk.download('omw-1.4')\n",
    "nltk.download('stopwords')\n",
    "\n",
    "import pandas as pd\n",
    "\n",
    "import acquire"
   ]
  },
  {
   "cell_type": "code",
   "execution_count": 2,
   "metadata": {},
   "outputs": [],
   "source": [
    "article = \"Coming into our Data Science program, you will need to know some math and \\\n",
    "stats. However, many of our applicants actually learn in the application process – you \\\n",
    "don’t need to be an expert before applying! Data science is a very accessible field to \\\n",
    "anyone dedicated to learning new skills, and we can work with any applicant to help them \\\n",
    "learn what they need to know. But what “skills” do we mean, exactly? Just what exactly \\\n",
    "are the data science math and stats principles you need to know?', 'What are the main \\\n",
    "math principles you need to know to get into Codeup’s Data Science program?'\""
   ]
  },
  {
   "cell_type": "markdown",
   "metadata": {},
   "source": [
    "### 1. Define a function named basic_clean. It should take in a string and apply some basic text cleaning to it:\n",
    "\n",
    " - Lowercase everything\n",
    " - Normalize unicode characters\n",
    " - Replace anything that is not a letter, number, whitespace or a single quote."
   ]
  },
  {
   "cell_type": "code",
   "execution_count": 3,
   "metadata": {},
   "outputs": [],
   "source": [
    "def basic_clean(str):\n",
    "    '''\n",
    "    This function takes in a string and returns the string normalized.\n",
    "    '''\n",
    "    # Lowercase everything\n",
    "    str = str.lower()\n",
    "    # Normalize unicode characters\n",
    "    str = unicodedata.normalize('NFKD', str)\\\n",
    "        .encode('ascii', 'ignore')\\\n",
    "        .decode('utf-8', 'ignore')\n",
    "    # Remove anything that is not a letter, number, or whitespace\n",
    "    str = re.sub(r\"[^a-z0-9\\s]\", '', str)\n",
    "    return str"
   ]
  },
  {
   "cell_type": "code",
   "execution_count": 4,
   "metadata": {},
   "outputs": [
    {
     "data": {
      "text/plain": [
       "567"
      ]
     },
     "execution_count": 4,
     "metadata": {},
     "output_type": "execute_result"
    }
   ],
   "source": [
    "article_clean = basic_clean(article)\n",
    "len(article_clean)"
   ]
  },
  {
   "cell_type": "markdown",
   "metadata": {},
   "source": [
    "### 2. Define a function named tokenize. It should take in a string and tokenize all the words in the string."
   ]
  },
  {
   "cell_type": "code",
   "execution_count": 5,
   "metadata": {},
   "outputs": [],
   "source": [
    "def tokenize(str):\n",
    "    '''\n",
    "    This function takes in a string and returns it tokenized.\n",
    "    '''\n",
    "    # Create the tokenizer\n",
    "    tokenizer = nltk.tokenize.ToktokTokenizer()\n",
    "    # Use the tokenizer\n",
    "    str = tokenizer.tokenize(str, return_str=True)\n",
    "    return str"
   ]
  },
  {
   "cell_type": "code",
   "execution_count": 6,
   "metadata": {},
   "outputs": [
    {
     "data": {
      "text/plain": [
       "566"
      ]
     },
     "execution_count": 6,
     "metadata": {},
     "output_type": "execute_result"
    }
   ],
   "source": [
    "article_tokens = tokenize(article_clean)\n",
    "len(article_tokens)"
   ]
  },
  {
   "cell_type": "markdown",
   "metadata": {},
   "source": [
    "### 3. Define a function named stem. It should accept some text and return the text after applying stemming to all the words."
   ]
  },
  {
   "cell_type": "code",
   "execution_count": 7,
   "metadata": {},
   "outputs": [],
   "source": [
    "def stem(str):\n",
    "    '''\n",
    "    This function takes in a string and returns it stemmed.\n",
    "    '''\n",
    "    # Create the porter stemmer\n",
    "    ps = nltk.porter.PorterStemmer()\n",
    "    # Use the stemmer on each token\n",
    "    stems = [ps.stem(word) for word in str.split()]\n",
    "    # Join the stemmed list of words back into a string\n",
    "    article_stemmed = ' '.join(stems)\n",
    "    return article_stemmed, stems"
   ]
  },
  {
   "cell_type": "code",
   "execution_count": 8,
   "metadata": {},
   "outputs": [
    {
     "data": {
      "text/plain": [
       "'come into our data scienc program you will need to know some math and stat howev mani of our applic actual learn in the applic process you dont need to be an expert befor appli data scienc is a veri access field to anyon dedic to learn new skill and we can work with ani applic to help them learn what they need to know but what skill do we mean exactli just what exactli are the data scienc math and stat principl you need to know what are the main math principl you need to know to get into codeup data scienc program'"
      ]
     },
     "execution_count": 8,
     "metadata": {},
     "output_type": "execute_result"
    }
   ],
   "source": [
    "article_stemmed, stems = stem(article_tokens)\n",
    "article_stemmed"
   ]
  },
  {
   "cell_type": "code",
   "execution_count": 9,
   "metadata": {},
   "outputs": [
    {
     "data": {
      "text/plain": [
       "to        9\n",
       "need      5\n",
       "data      4\n",
       "scienc    4\n",
       "you       4\n",
       "what      4\n",
       "know      4\n",
       "applic    3\n",
       "the       3\n",
       "math      3\n",
       "Name: count, dtype: int64"
      ]
     },
     "execution_count": 9,
     "metadata": {},
     "output_type": "execute_result"
    }
   ],
   "source": [
    "pd.Series(stems).value_counts().head(10)"
   ]
  },
  {
   "cell_type": "markdown",
   "metadata": {},
   "source": [
    "### 4. Define a function named lemmatize. It should accept some text and return the text after applying lemmatization to each word."
   ]
  },
  {
   "cell_type": "code",
   "execution_count": 10,
   "metadata": {},
   "outputs": [],
   "source": [
    "def lemmatize(str):\n",
    "    '''\n",
    "    This function takes in a string and returns it lemmatized.\n",
    "    '''\n",
    "    # Create the Lemmatizer.\n",
    "    wnl = nltk.stem.WordNetLemmatizer()\n",
    "    # Use the lemmatizer on each token\n",
    "    lemmas = [wnl.lemmatize(word) for word in str.split()]\n",
    "    # Join the lemmatized list of words back into a string\n",
    "    article_lemmatized = ' '.join(lemmas)\n",
    "    return article_lemmatized, lemmas"
   ]
  },
  {
   "cell_type": "code",
   "execution_count": 11,
   "metadata": {},
   "outputs": [],
   "source": [
    "article_lemmatized, lemmas = lemmatize(article_tokens)"
   ]
  },
  {
   "cell_type": "code",
   "execution_count": 12,
   "metadata": {},
   "outputs": [
    {
     "data": {
      "text/plain": [
       "to         9\n",
       "need       5\n",
       "what       4\n",
       "data       4\n",
       "science    4\n",
       "you        4\n",
       "know       4\n",
       "the        3\n",
       "math       3\n",
       "and        3\n",
       "Name: count, dtype: int64"
      ]
     },
     "execution_count": 12,
     "metadata": {},
     "output_type": "execute_result"
    }
   ],
   "source": [
    "pd.Series(lemmas).value_counts().head(10)"
   ]
  },
  {
   "cell_type": "markdown",
   "metadata": {},
   "source": [
    "### 5. Define a function named remove_stopwords. It should accept some text and return the text after removing all the stopwords.\n",
    "\n",
    "\n",
    "This function should define two optional parameters, extra_words and exclude_words. These parameters should define any additional stop words to include, and any words that we don't want to remove."
   ]
  },
  {
   "cell_type": "code",
   "execution_count": 13,
   "metadata": {},
   "outputs": [],
   "source": [
    "def remove_stopwords(str, extra_words=[], exclude_words=[]):\n",
    "    '''\n",
    "    This function takes in a string and returns it after removing stopwords.\n",
    "    '''\n",
    "    # Create stopword_list\n",
    "    stopword_list = stopwords.words('english')\n",
    "    # Remove 'exclude_words' from stopword_list to keep these in my text\n",
    "    stopword_list = set(stopword_list) - set(exclude_words)\n",
    "    # Add in 'extra_words' to stopword_list\n",
    "    stopword_list = stopword_list.union(set(extra_words))\n",
    "    # Split words in str\n",
    "    words = str.split()\n",
    "    # Create a list of words from my string with stopwords removed and assign to variable\n",
    "    filtered_words = [w for w in words if w not in stopword_list]\n",
    "    # Join words in the list back into strings and assign to a variable\n",
    "    article_without_stopwords = ' '.join(filtered_words)\n",
    "    return article_without_stopwords\n"
   ]
  },
  {
   "cell_type": "code",
   "execution_count": 14,
   "metadata": {},
   "outputs": [
    {
     "name": "stdout",
     "output_type": "stream",
     "text": [
      "coming data science program need know math stats however many applicant actually learn application process dont need expert applying data science accessible field anyone dedicated learning new skill work applicant help learn need know skill mean exactly exactly data science math stats principle need know main math principle need know get codeups data science program\n"
     ]
    }
   ],
   "source": [
    "article_without_stopwords = remove_stopwords(article_lemmatized)\n",
    "print(article_without_stopwords)"
   ]
  },
  {
   "cell_type": "markdown",
   "metadata": {},
   "source": [
    "### 6. Use your data from the acquire to produce a dataframe of the news articles. Name the dataframe news_df."
   ]
  },
  {
   "cell_type": "code",
   "execution_count": 15,
   "metadata": {},
   "outputs": [
    {
     "name": "stdout",
     "output_type": "stream",
     "text": [
      "Grabbing contents for business.\n",
      "Time to grab contents of business: 1.58 seconds\n",
      "Grabbing contents for entertainment.\n",
      "Time to grab contents of entertainment: 1.53 seconds\n",
      "Grabbing contents for technology.\n",
      "Time to grab contents of technology: 1.25 seconds\n",
      "Grabbing contents for sports.\n",
      "Time to grab contents of sports: 0.93 seconds\n",
      "Job finished!\n",
      "It took 0.09 minutes to execute scraping\n"
     ]
    },
    {
     "data": {
      "text/html": [
       "<div>\n",
       "<style scoped>\n",
       "    .dataframe tbody tr th:only-of-type {\n",
       "        vertical-align: middle;\n",
       "    }\n",
       "\n",
       "    .dataframe tbody tr th {\n",
       "        vertical-align: top;\n",
       "    }\n",
       "\n",
       "    .dataframe thead th {\n",
       "        text-align: right;\n",
       "    }\n",
       "</style>\n",
       "<table border=\"1\" class=\"dataframe\">\n",
       "  <thead>\n",
       "    <tr style=\"text-align: right;\">\n",
       "      <th></th>\n",
       "      <th>title</th>\n",
       "      <th>body</th>\n",
       "      <th>category</th>\n",
       "    </tr>\n",
       "  </thead>\n",
       "  <tbody>\n",
       "    <tr>\n",
       "      <th>0</th>\n",
       "      <td>Jet Airways Founder Naresh Goyal allowed home ...</td>\n",
       "      <td>A special PMLA court in Mumbai has allowed Jet...</td>\n",
       "      <td>business</td>\n",
       "    </tr>\n",
       "    <tr>\n",
       "      <th>1</th>\n",
       "      <td>Wipro's staff count falls for 4th quarter, att...</td>\n",
       "      <td>Wipro reported a fall in its employee headcoun...</td>\n",
       "      <td>business</td>\n",
       "    </tr>\n",
       "    <tr>\n",
       "      <th>2</th>\n",
       "      <td>Wipro's revenue in Q2 falls to ₹22,516 cr, pro...</td>\n",
       "      <td>IT major Wipro reported a 0.1% fall in its rev...</td>\n",
       "      <td>business</td>\n",
       "    </tr>\n",
       "    <tr>\n",
       "      <th>3</th>\n",
       "      <td>Will march them off to Tihar, they'll know SC'...</td>\n",
       "      <td>Chief Justice of India (CJI) DY Chandrachud re...</td>\n",
       "      <td>business</td>\n",
       "    </tr>\n",
       "    <tr>\n",
       "      <th>4</th>\n",
       "      <td>Goldman Sachs CEO David Solomon quits working ...</td>\n",
       "      <td>David Solomon, the 61-year-old CEO of investme...</td>\n",
       "      <td>business</td>\n",
       "    </tr>\n",
       "  </tbody>\n",
       "</table>\n",
       "</div>"
      ],
      "text/plain": [
       "                                               title  \\\n",
       "0  Jet Airways Founder Naresh Goyal allowed home ...   \n",
       "1  Wipro's staff count falls for 4th quarter, att...   \n",
       "2  Wipro's revenue in Q2 falls to ₹22,516 cr, pro...   \n",
       "3  Will march them off to Tihar, they'll know SC'...   \n",
       "4  Goldman Sachs CEO David Solomon quits working ...   \n",
       "\n",
       "                                                body  category  \n",
       "0  A special PMLA court in Mumbai has allowed Jet...  business  \n",
       "1  Wipro reported a fall in its employee headcoun...  business  \n",
       "2  IT major Wipro reported a 0.1% fall in its rev...  business  \n",
       "3  Chief Justice of India (CJI) DY Chandrachud re...  business  \n",
       "4  David Solomon, the 61-year-old CEO of investme...  business  "
      ]
     },
     "execution_count": 15,
     "metadata": {},
     "output_type": "execute_result"
    }
   ],
   "source": [
    "news_df = acquire.get_news_articles()\n",
    "news_df.head()"
   ]
  },
  {
   "cell_type": "markdown",
   "metadata": {},
   "source": [
    "### 7. Make another dataframe for the Codeup blog posts. Name the dataframe codeup_df."
   ]
  },
  {
   "cell_type": "code",
   "execution_count": 16,
   "metadata": {},
   "outputs": [
    {
     "data": {
      "text/html": [
       "<div>\n",
       "<style scoped>\n",
       "    .dataframe tbody tr th:only-of-type {\n",
       "        vertical-align: middle;\n",
       "    }\n",
       "\n",
       "    .dataframe tbody tr th {\n",
       "        vertical-align: top;\n",
       "    }\n",
       "\n",
       "    .dataframe thead th {\n",
       "        text-align: right;\n",
       "    }\n",
       "</style>\n",
       "<table border=\"1\" class=\"dataframe\">\n",
       "  <thead>\n",
       "    <tr style=\"text-align: right;\">\n",
       "      <th></th>\n",
       "      <th>title</th>\n",
       "      <th>article</th>\n",
       "    </tr>\n",
       "  </thead>\n",
       "  <tbody>\n",
       "    <tr>\n",
       "      <th>0</th>\n",
       "      <td>Spotlight on APIDA Voices: Celebrating Heritag...</td>\n",
       "      <td>May is traditionally known as Asian American a...</td>\n",
       "    </tr>\n",
       "    <tr>\n",
       "      <th>1</th>\n",
       "      <td>Women in tech: Panelist Spotlight – Magdalena ...</td>\n",
       "      <td>Women in tech: Panelist Spotlight – Magdalena ...</td>\n",
       "    </tr>\n",
       "    <tr>\n",
       "      <th>2</th>\n",
       "      <td>Women in tech: Panelist Spotlight – Rachel Rob...</td>\n",
       "      <td>Women in tech: Panelist Spotlight – Rachel Rob...</td>\n",
       "    </tr>\n",
       "    <tr>\n",
       "      <th>3</th>\n",
       "      <td>Women in Tech: Panelist Spotlight – Sarah Mellor</td>\n",
       "      <td>Women in tech: Panelist Spotlight – Sarah Mell...</td>\n",
       "    </tr>\n",
       "    <tr>\n",
       "      <th>4</th>\n",
       "      <td>Women in Tech: Panelist Spotlight – Madeleine ...</td>\n",
       "      <td>Women in tech: Panelist Spotlight – Madeleine ...</td>\n",
       "    </tr>\n",
       "  </tbody>\n",
       "</table>\n",
       "</div>"
      ],
      "text/plain": [
       "                                               title  \\\n",
       "0  Spotlight on APIDA Voices: Celebrating Heritag...   \n",
       "1  Women in tech: Panelist Spotlight – Magdalena ...   \n",
       "2  Women in tech: Panelist Spotlight – Rachel Rob...   \n",
       "3   Women in Tech: Panelist Spotlight – Sarah Mellor   \n",
       "4  Women in Tech: Panelist Spotlight – Madeleine ...   \n",
       "\n",
       "                                             article  \n",
       "0  May is traditionally known as Asian American a...  \n",
       "1  Women in tech: Panelist Spotlight – Magdalena ...  \n",
       "2  Women in tech: Panelist Spotlight – Rachel Rob...  \n",
       "3  Women in tech: Panelist Spotlight – Sarah Mell...  \n",
       "4  Women in tech: Panelist Spotlight – Madeleine ...  "
      ]
     },
     "execution_count": 16,
     "metadata": {},
     "output_type": "execute_result"
    }
   ],
   "source": [
    "codeup_df = acquire.get_blog_articles()\n",
    "codeup_df.head()"
   ]
  },
  {
   "cell_type": "markdown",
   "metadata": {},
   "source": [
    "### 8. For each dataframe, produce the following columns:\n",
    "\n",
    " - title to hold the title\n",
    " - original to hold the original article/post content\n",
    " - clean to hold the normalized and tokenized original with the stopwords removed.\n",
    " - stemmed to hold the stemmed version of the cleaned data.\n",
    " - lemmatized to hold the lemmatized version of the cleaned data."
   ]
  },
  {
   "cell_type": "code",
   "execution_count": 17,
   "metadata": {},
   "outputs": [
    {
     "data": {
      "text/html": [
       "<div>\n",
       "<style scoped>\n",
       "    .dataframe tbody tr th:only-of-type {\n",
       "        vertical-align: middle;\n",
       "    }\n",
       "\n",
       "    .dataframe tbody tr th {\n",
       "        vertical-align: top;\n",
       "    }\n",
       "\n",
       "    .dataframe thead th {\n",
       "        text-align: right;\n",
       "    }\n",
       "</style>\n",
       "<table border=\"1\" class=\"dataframe\">\n",
       "  <thead>\n",
       "    <tr style=\"text-align: right;\">\n",
       "      <th></th>\n",
       "      <th>title</th>\n",
       "      <th>original</th>\n",
       "      <th>category</th>\n",
       "      <th>clean</th>\n",
       "      <th>stemmed</th>\n",
       "      <th>lemmatized</th>\n",
       "    </tr>\n",
       "  </thead>\n",
       "  <tbody>\n",
       "    <tr>\n",
       "      <th>0</th>\n",
       "      <td>Jet Airways Founder Naresh Goyal allowed home ...</td>\n",
       "      <td>A special PMLA court in Mumbai has allowed Jet...</td>\n",
       "      <td>business</td>\n",
       "      <td>special pmla court mumbai allowed jet airways ...</td>\n",
       "      <td>(special pmla court mumbai allow jet airway fo...</td>\n",
       "      <td>(special pmla court mumbai allowed jet airway ...</td>\n",
       "    </tr>\n",
       "    <tr>\n",
       "      <th>1</th>\n",
       "      <td>Wipro's staff count falls for 4th quarter, att...</td>\n",
       "      <td>Wipro reported a fall in its employee headcoun...</td>\n",
       "      <td>business</td>\n",
       "      <td>wipro reported fall employee headcount fourth ...</td>\n",
       "      <td>(wipro report fall employe headcount fourth co...</td>\n",
       "      <td>(wipro reported fall employee headcount fourth...</td>\n",
       "    </tr>\n",
       "    <tr>\n",
       "      <th>2</th>\n",
       "      <td>Wipro's revenue in Q2 falls to ₹22,516 cr, pro...</td>\n",
       "      <td>IT major Wipro reported a 0.1% fall in its rev...</td>\n",
       "      <td>business</td>\n",
       "      <td>major wipro reported 01 fall revenue julysepte...</td>\n",
       "      <td>(major wipro report 01 fall revenu julyseptemb...</td>\n",
       "      <td>(major wipro reported 01 fall revenue julysept...</td>\n",
       "    </tr>\n",
       "    <tr>\n",
       "      <th>3</th>\n",
       "      <td>Will march them off to Tihar, they'll know SC'...</td>\n",
       "      <td>Chief Justice of India (CJI) DY Chandrachud re...</td>\n",
       "      <td>business</td>\n",
       "      <td>chief justice india cji dy chandrachud reprima...</td>\n",
       "      <td>(chief justic india cji dy chandrachud reprima...</td>\n",
       "      <td>(chief justice india cji dy chandrachud reprim...</td>\n",
       "    </tr>\n",
       "    <tr>\n",
       "      <th>4</th>\n",
       "      <td>Goldman Sachs CEO David Solomon quits working ...</td>\n",
       "      <td>David Solomon, the 61-year-old CEO of investme...</td>\n",
       "      <td>business</td>\n",
       "      <td>david solomon 61yearold ceo investment banking...</td>\n",
       "      <td>(david solomon 61yearold ceo invest bank firm ...</td>\n",
       "      <td>(david solomon 61yearold ceo investment bankin...</td>\n",
       "    </tr>\n",
       "  </tbody>\n",
       "</table>\n",
       "</div>"
      ],
      "text/plain": [
       "                                               title  \\\n",
       "0  Jet Airways Founder Naresh Goyal allowed home ...   \n",
       "1  Wipro's staff count falls for 4th quarter, att...   \n",
       "2  Wipro's revenue in Q2 falls to ₹22,516 cr, pro...   \n",
       "3  Will march them off to Tihar, they'll know SC'...   \n",
       "4  Goldman Sachs CEO David Solomon quits working ...   \n",
       "\n",
       "                                            original  category  \\\n",
       "0  A special PMLA court in Mumbai has allowed Jet...  business   \n",
       "1  Wipro reported a fall in its employee headcoun...  business   \n",
       "2  IT major Wipro reported a 0.1% fall in its rev...  business   \n",
       "3  Chief Justice of India (CJI) DY Chandrachud re...  business   \n",
       "4  David Solomon, the 61-year-old CEO of investme...  business   \n",
       "\n",
       "                                               clean  \\\n",
       "0  special pmla court mumbai allowed jet airways ...   \n",
       "1  wipro reported fall employee headcount fourth ...   \n",
       "2  major wipro reported 01 fall revenue julysepte...   \n",
       "3  chief justice india cji dy chandrachud reprima...   \n",
       "4  david solomon 61yearold ceo investment banking...   \n",
       "\n",
       "                                             stemmed  \\\n",
       "0  (special pmla court mumbai allow jet airway fo...   \n",
       "1  (wipro report fall employe headcount fourth co...   \n",
       "2  (major wipro report 01 fall revenu julyseptemb...   \n",
       "3  (chief justic india cji dy chandrachud reprima...   \n",
       "4  (david solomon 61yearold ceo invest bank firm ...   \n",
       "\n",
       "                                          lemmatized  \n",
       "0  (special pmla court mumbai allowed jet airway ...  \n",
       "1  (wipro reported fall employee headcount fourth...  \n",
       "2  (major wipro reported 01 fall revenue julysept...  \n",
       "3  (chief justice india cji dy chandrachud reprim...  \n",
       "4  (david solomon 61yearold ceo investment bankin...  "
      ]
     },
     "execution_count": 17,
     "metadata": {},
     "output_type": "execute_result"
    }
   ],
   "source": [
    "# rename article column to original\n",
    "news_df.rename(columns={'body': 'original'}, inplace=True)\n",
    "codeup_df.rename(columns={'article': 'original'}, inplace=True)\n",
    "\n",
    "# add 'clean' column to each df\n",
    "news_df['clean'] = news_df.original.apply(basic_clean).apply(tokenize).apply(remove_stopwords)\n",
    "codeup_df['clean'] = codeup_df.original.apply(basic_clean).apply(tokenize).apply(remove_stopwords)\n",
    "\n",
    "# add 'stemmed' column to each df\n",
    "news_df['stemmed'] = news_df.clean.apply(stem)\n",
    "codeup_df['stemmed'] = codeup_df.clean.apply(stem)\n",
    "\n",
    "# add 'lemmatized' column to each df\n",
    "news_df['lemmatized'] = news_df.clean.apply(lemmatize)\n",
    "codeup_df['lemmatized'] = codeup_df.clean.apply(lemmatize)\n",
    "\n",
    "news_df.head()"
   ]
  },
  {
   "cell_type": "code",
   "execution_count": 18,
   "metadata": {},
   "outputs": [
    {
     "data": {
      "text/html": [
       "<div>\n",
       "<style scoped>\n",
       "    .dataframe tbody tr th:only-of-type {\n",
       "        vertical-align: middle;\n",
       "    }\n",
       "\n",
       "    .dataframe tbody tr th {\n",
       "        vertical-align: top;\n",
       "    }\n",
       "\n",
       "    .dataframe thead th {\n",
       "        text-align: right;\n",
       "    }\n",
       "</style>\n",
       "<table border=\"1\" class=\"dataframe\">\n",
       "  <thead>\n",
       "    <tr style=\"text-align: right;\">\n",
       "      <th></th>\n",
       "      <th>title</th>\n",
       "      <th>original</th>\n",
       "      <th>clean</th>\n",
       "      <th>stemmed</th>\n",
       "      <th>lemmatized</th>\n",
       "    </tr>\n",
       "  </thead>\n",
       "  <tbody>\n",
       "    <tr>\n",
       "      <th>0</th>\n",
       "      <td>Spotlight on APIDA Voices: Celebrating Heritag...</td>\n",
       "      <td>May is traditionally known as Asian American a...</td>\n",
       "      <td>may traditionally known asian american pacific...</td>\n",
       "      <td>(may tradit known asian american pacif island ...</td>\n",
       "      <td>(may traditionally known asian american pacifi...</td>\n",
       "    </tr>\n",
       "    <tr>\n",
       "      <th>1</th>\n",
       "      <td>Women in tech: Panelist Spotlight – Magdalena ...</td>\n",
       "      <td>Women in tech: Panelist Spotlight – Magdalena ...</td>\n",
       "      <td>women tech panelist spotlight magdalena rahn c...</td>\n",
       "      <td>(women tech panelist spotlight magdalena rahn ...</td>\n",
       "      <td>(woman tech panelist spotlight magdalena rahn ...</td>\n",
       "    </tr>\n",
       "    <tr>\n",
       "      <th>2</th>\n",
       "      <td>Women in tech: Panelist Spotlight – Rachel Rob...</td>\n",
       "      <td>Women in tech: Panelist Spotlight – Rachel Rob...</td>\n",
       "      <td>women tech panelist spotlight rachel robbinsma...</td>\n",
       "      <td>(women tech panelist spotlight rachel robbinsm...</td>\n",
       "      <td>(woman tech panelist spotlight rachel robbinsm...</td>\n",
       "    </tr>\n",
       "    <tr>\n",
       "      <th>3</th>\n",
       "      <td>Women in Tech: Panelist Spotlight – Sarah Mellor</td>\n",
       "      <td>Women in tech: Panelist Spotlight – Sarah Mell...</td>\n",
       "      <td>women tech panelist spotlight sarah mellor cod...</td>\n",
       "      <td>(women tech panelist spotlight sarah mellor co...</td>\n",
       "      <td>(woman tech panelist spotlight sarah mellor co...</td>\n",
       "    </tr>\n",
       "    <tr>\n",
       "      <th>4</th>\n",
       "      <td>Women in Tech: Panelist Spotlight – Madeleine ...</td>\n",
       "      <td>Women in tech: Panelist Spotlight – Madeleine ...</td>\n",
       "      <td>women tech panelist spotlight madeleine capper...</td>\n",
       "      <td>(women tech panelist spotlight madelein capper...</td>\n",
       "      <td>(woman tech panelist spotlight madeleine cappe...</td>\n",
       "    </tr>\n",
       "  </tbody>\n",
       "</table>\n",
       "</div>"
      ],
      "text/plain": [
       "                                               title  \\\n",
       "0  Spotlight on APIDA Voices: Celebrating Heritag...   \n",
       "1  Women in tech: Panelist Spotlight – Magdalena ...   \n",
       "2  Women in tech: Panelist Spotlight – Rachel Rob...   \n",
       "3   Women in Tech: Panelist Spotlight – Sarah Mellor   \n",
       "4  Women in Tech: Panelist Spotlight – Madeleine ...   \n",
       "\n",
       "                                            original  \\\n",
       "0  May is traditionally known as Asian American a...   \n",
       "1  Women in tech: Panelist Spotlight – Magdalena ...   \n",
       "2  Women in tech: Panelist Spotlight – Rachel Rob...   \n",
       "3  Women in tech: Panelist Spotlight – Sarah Mell...   \n",
       "4  Women in tech: Panelist Spotlight – Madeleine ...   \n",
       "\n",
       "                                               clean  \\\n",
       "0  may traditionally known asian american pacific...   \n",
       "1  women tech panelist spotlight magdalena rahn c...   \n",
       "2  women tech panelist spotlight rachel robbinsma...   \n",
       "3  women tech panelist spotlight sarah mellor cod...   \n",
       "4  women tech panelist spotlight madeleine capper...   \n",
       "\n",
       "                                             stemmed  \\\n",
       "0  (may tradit known asian american pacif island ...   \n",
       "1  (women tech panelist spotlight magdalena rahn ...   \n",
       "2  (women tech panelist spotlight rachel robbinsm...   \n",
       "3  (women tech panelist spotlight sarah mellor co...   \n",
       "4  (women tech panelist spotlight madelein capper...   \n",
       "\n",
       "                                          lemmatized  \n",
       "0  (may traditionally known asian american pacifi...  \n",
       "1  (woman tech panelist spotlight magdalena rahn ...  \n",
       "2  (woman tech panelist spotlight rachel robbinsm...  \n",
       "3  (woman tech panelist spotlight sarah mellor co...  \n",
       "4  (woman tech panelist spotlight madeleine cappe...  "
      ]
     },
     "execution_count": 18,
     "metadata": {},
     "output_type": "execute_result"
    }
   ],
   "source": [
    "codeup_df.head()"
   ]
  },
  {
   "cell_type": "markdown",
   "metadata": {},
   "source": [
    "### 9. Ask yourself:\n",
    "\n",
    " - If your corpus is 493KB, would you prefer to use stemmed or lemmatized text? **Lemmatized**\n",
    " - If your corpus is 25MB, would you prefer to use stemmed or lemmatized text? **Lemmatized**\n",
    " - If your corpus is 200TB of text and you're charged by the megabyte for your hosted computational resources, would you prefer to use stemmed or lemmatized text? **Stemmed**"
   ]
  },
  {
   "cell_type": "code",
   "execution_count": null,
   "metadata": {},
   "outputs": [],
   "source": []
  }
 ],
 "metadata": {
  "kernelspec": {
   "display_name": "base",
   "language": "python",
   "name": "python3"
  },
  "language_info": {
   "codemirror_mode": {
    "name": "ipython",
    "version": 3
   },
   "file_extension": ".py",
   "mimetype": "text/x-python",
   "name": "python",
   "nbconvert_exporter": "python",
   "pygments_lexer": "ipython3",
   "version": "3.11.3"
  }
 },
 "nbformat": 4,
 "nbformat_minor": 2
}
